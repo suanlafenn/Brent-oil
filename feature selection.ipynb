{
 "cells": [
  {
   "cell_type": "markdown",
   "metadata": {},
   "source": [
    "# Feature selection"
   ]
  },
  {
   "cell_type": "code",
   "execution_count": 23,
   "metadata": {},
   "outputs": [],
   "source": [
    "import pandas as pd\n",
    "import numpy as np\n",
    "data = pd.read_csv('wide_wb_2000.csv')"
   ]
  },
  {
   "cell_type": "code",
   "execution_count": 24,
   "metadata": {},
   "outputs": [],
   "source": [
    "data_selection = data[['finance_crude_price_brent',\n",
    "       'demand_econ_gdp_cn', 'demand_econ_gdp_usa',\n",
    "       'demand_econ_gdp_eu', 'demand_refinery_capacity_global',\n",
    "       'demand_econ_cpi_cn', 'demand_econ_cpi_usa', 'demand_econ_cpi_eu',\n",
    "       'demand_econ_ppi_cn', 'demand_econ_ppi_usa', 'demand_econ_ppi_eu',\n",
    "       'demand_econ_pce_usa', 'demand_refinery_naphtha',\n",
    "       'demand_refinery_eia_gasoline', 'demand_refinery_eia_diesel',\n",
    "       'demand_commodity_link_gold', \n",
    "       'supply_OPEC_prod_opec', 'supply_OPEC_capacity_remain',\n",
    "       'supply_canada_prod_export_can', 'supply_crudeoil_stock_commercial',\n",
    "       'supply_us_prod_prod_usa', 'supply_us_prod_export_usa',\n",
    "       'supply_energy_consumption_per_unit_of_gdp_china',\n",
    "       'supply_doepcrin_index', 'finance_crude_price_wti',\n",
    "       'finance_naturalgas_price_hh', 'finance_stock_price_nasdq100',\n",
    "       'finance_stock_price_sp500', 'finance_us_bill_usdebt2',\n",
    "       'finance_us_bill_usdebt5', 'finance_us_bill_usdebt10',\n",
    "       'finance_us_bill_sell2buy', 'finance_usfed_policy_usd_index',\n",
    "       'finance_bank_exrate_eu', 'finance_market_emo_nymex_long',\n",
    "       'finance_market_emo_nymex_short', 'finance_market_emo_nymex_long/short',\n",
    "       'finance_shcomp_index', 'finance_ukx_index', 'finance_cac_index',\n",
    "       'finance_hsi_index', 'finance_tpx_index', 'finance_bkr_us_equity',\n",
    "       'finance_hal_us_equity', 'finance_slb_us_equity',\n",
    "       'finance_market_emo_vix', 'special_event_elnino',\n",
    "       'geopolitics_conflict_rublerate', 'other_oil_future_ws_westafrica',\n",
    "       'other_chexus_index', 'other_tbexchna_index', 'other_ustbtot_index',\n",
    "       'other_cnfrbal$_index']]"
   ]
  },
  {
   "cell_type": "code",
   "execution_count": 25,
   "metadata": {},
   "outputs": [
    {
     "name": "stderr",
     "output_type": "stream",
     "text": [
      "/home/bdadmin/anaconda3/envs/tft/lib/python3.9/site-packages/xgboost/sklearn.py:1224: UserWarning: The use of label encoder in XGBClassifier is deprecated and will be removed in a future release. To remove this warning, do the following: 1) Pass option use_label_encoder=False when constructing XGBClassifier object; and 2) Encode your labels (y) as integers starting with 0, i.e. 0, 1, 2, ..., [num_class - 1].\n",
      "  warnings.warn(label_encoder_deprecation_msg, UserWarning)\n",
      "/home/bdadmin/anaconda3/envs/tft/lib/python3.9/site-packages/xgboost/data.py:250: FutureWarning: pandas.Int64Index is deprecated and will be removed from pandas in a future version. Use pandas.Index with the appropriate dtype instead.\n",
      "  elif isinstance(data.columns, (pd.Int64Index, pd.RangeIndex)):\n"
     ]
    },
    {
     "name": "stdout",
     "output_type": "stream",
     "text": [
      "[02:27:23] WARNING: ../src/learner.cc:1115: Starting in XGBoost 1.3.0, the default evaluation metric used with the objective 'multi:softprob' was changed from 'merror' to 'mlogloss'. Explicitly set eval_metric if you'd like to restore the old behavior.\n",
      "('supply_doepcrin_index', 0.0)\n",
      "('demand_econ_gdp_usa', 0.18398269497822797)\n",
      "('finance_crude_price_wti', 0.1873088834644193)\n",
      "('finance_shcomp_index', 0.18839113271407967)\n",
      "('demand_commodity_link_gold', 0.18947338196374008)\n",
      "('demand_econ_cpi_cn', 0.1905159108447955)\n",
      "('finance_us_bill_sell2buy', 0.1905159108447955)\n",
      "('finance_us_bill_usdebt10', 0.19163788046306093)\n",
      "('other_oil_future_ws_westafrica', 0.19163788046306093)\n",
      "('supply_OPEC_prod_opec', 0.19167760083166596)\n",
      "('finance_stock_price_nasdq100', 0.191796761937481)\n",
      "('finance_cac_index', 0.19384209933098676)\n",
      "('finance_us_bill_usdebt2', 0.19488462821204214)\n",
      "('finance_bank_exrate_eu', 0.1949243485806472)\n",
      "('supply_us_prod_export_usa', 0.1949640689492522)\n",
      "('finance_stock_price_sp500', 0.19592717725159495)\n",
      "('finance_hal_us_equity', 0.19592717725159495)\n",
      "('finance_tpx_index', 0.19628466056904012)\n",
      "('supply_energy_consumption_per_unit_of_gdp_china', 0.19700942650125533)\n",
      "('finance_market_emo_nymex_long/short', 0.1970888672384654)\n",
      "('finance_market_emo_nymex_short', 0.19825055722533583)\n",
      "('finance_slb_us_equity', 0.19921364536918118)\n",
      "('supply_canada_prod_export_can', 0.20025617425023656)\n",
      "('demand_econ_ppi_usa', 0.20029589461884156)\n",
      "('demand_refinery_eia_diesel', 0.20137814386850197)\n",
      "('supply_crudeoil_stock_commercial', 0.20189450866036726)\n",
      "('finance_market_emo_vix', 0.2024603931181624)\n",
      "('other_ustbtot_index', 0.2024603931181624)\n",
      "('other_tbexchna_index', 0.20281787643560759)\n",
      "('finance_market_emo_nymex_long', 0.20354264236782282)\n",
      "('finance_us_bill_usdebt5', 0.20362208310503285)\n",
      "('supply_OPEC_capacity_remain', 0.2036618034736379)\n",
      "('finance_hsi_index', 0.2045851712488782)\n",
      "('finance_ukx_index', 0.20486321382911332)\n",
      "('finance_bkr_us_equity', 0.20678939011680406)\n",
      "('special_event_elnino', 0.2154076839039797)\n",
      "('other_cnfrbal$_index', 0.2164899331536401)\n",
      "('finance_usfed_policy_usd_index', 0.21656937389085015)\n",
      "('demand_refinery_naphtha', 0.21757218240330053)\n",
      "('supply_us_prod_prod_usa', 0.2177310638777206)\n",
      "('demand_econ_ppi_eu', 0.22514794730942078)\n",
      "('demand_econ_pce_usa', 0.23488821071486188)\n",
      "('demand_refinery_capacity_global', 0.2391774873448985)\n",
      "('other_chexus_index', 0.24903691185615465)\n",
      "('demand_econ_cpi_usa', 0.2522042188679258)\n",
      "('demand_econ_cpi_eu', 0.25545098677540445)\n",
      "('demand_econ_gdp_eu', 0.26948052681088214)\n",
      "('demand_refinery_eia_gasoline', 0.2917579792599266)\n",
      "('demand_econ_ppi_cn', 0.2922872421079556)\n",
      "('geopolitics_conflict_rublerate', 0.33380997775659355)\n",
      "('finance_naturalgas_price_hh', 0.5692640729292505)\n"
     ]
    }
   ],
   "source": [
    "from sklearn.ensemble import RandomForestRegressor\n",
    "from sklearn.linear_model import Ridge\n",
    "from sklearn.preprocessing import MinMaxScaler\n",
    "from xgboost import XGBClassifier\n",
    "\n",
    "scaler = MinMaxScaler(feature_range=(0, 1))\n",
    "\n",
    "def feature_select(data):\n",
    "    \n",
    "    X = data.iloc[:, 1:]\n",
    "    Y = data.iloc[:, 0]\n",
    "    names = data.columns[2:]\n",
    "    \n",
    "    def xgboost():\n",
    "        xgboost = XGBClassifier()\n",
    "        xgboost.fit(X, Y)\n",
    "        scores = scaler.fit_transform(list(map(lambda x: [round(x, 4)], xgboost.feature_importances_)))\n",
    "        scores = [i[0] for i in scores]\n",
    "        return scores\n",
    "    \n",
    "    def randomForest():\n",
    "        rf = RandomForestRegressor()\n",
    "        rf.fit(X, Y)\n",
    "        scores = scaler.fit_transform(list(map(lambda x: [round(x, 4)], rf.feature_importances_)))\n",
    "        scores = [i[0] for i in scores]\n",
    "        return scores\n",
    "    \n",
    "    # def cov():\n",
    "    #     scores = [np.abs(i) for i in data.corr()['finance_crude_price_brent'][1:]]\n",
    "    #     return scores \n",
    "    \n",
    "    crit1, crit2 = randomForest(), xgboost()\n",
    "    all_crit = list(zip(names, [(i[0]+i[1])/3 for i in list(zip(crit1, crit2))]))\n",
    "    return all_crit\n",
    "\n",
    "\n",
    "all_crit_new = feature_select(data_selection)\n",
    "\n",
    "for i in sorted(all_crit_new, key= lambda x:x[1]):\n",
    "    print(i)"
   ]
  }
 ],
 "metadata": {
  "kernelspec": {
   "display_name": "Python 3 (ipykernel)",
   "language": "python",
   "name": "python3"
  },
  "language_info": {
   "codemirror_mode": {
    "name": "ipython",
    "version": 3
   },
   "file_extension": ".py",
   "mimetype": "text/x-python",
   "name": "python",
   "nbconvert_exporter": "python",
   "pygments_lexer": "ipython3",
   "version": "3.9.13"
  },
  "vscode": {
   "interpreter": {
    "hash": "5381a9111ba147921fc9d568a79965dbda71c3f6a17cf32c217f09a1bb7cb557"
   }
  }
 },
 "nbformat": 4,
 "nbformat_minor": 4
}
